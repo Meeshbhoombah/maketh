{
 "cells": [
  {
   "cell_type": "markdown",
   "metadata": {},
   "source": [
    "# Maketh\n",
    "A simple Bitcoin-like cryptocurreny implemented in Python.\n",
    "\n",
    "## The Sacred Box\n",
    "Consider for a moment that you were worthy enough to be given the Sacred Box. The Sacred Box permits you to lay pieces of paper within its chambers. When you close the Box and shake it, the word on the paper somehow change to a different, seemingly gibberish, sequence of [alphanumeric](https://en.wikipedia.org/wiki/Alphanumeric) characters. It is important to note that **whenever the same word is entered into the Sacred Box, the resulting output will always be the same**.\n",
    "\n",
    "<img src=\"imgs/sacred_box/example_one.png\">\n",
    "\n",
    "For the sake of simplicity, let's attribute the conversion to *magic*. How does the Sacred Box compute the end word? Not a singular human in the world is sure (that's not really true). Despite this, we adore the Sacred Box. As it is Sacred, we *must* not question it, but rather observe. What happens when we put a different word into the Sacred Box? What if we put a recieved output back into the Sacred Box?\n",
    "\n",
    "<img src=\"imgs/sacred_box/example_two.png\">\n",
    "\n",
    "Suprisingly, when given an alphanumeric string of characters (in this case, \"A6XBDEGK\") the Sacred Box cannot determine the original word that was put in it. That is because, in the eyes of the Sacred Box, all inputs are the same (we have much to learn from the Sacred Box). Furthermore, we are now certain that it can **only** convert inputs into gibberish. This is okay. The Sacred Box is sacred, and has endured much, therefore we will always adore it. Notice how putting in a different word converted that word to another seemingly random sequence of characters.\n",
    "\n",
    "### A Sham\n",
    "What if I told you that our Sacred Box was based in sound, logical, mathematical reasoning. Would you feel duped? Unfortunetly, this is the case. Our sacred box is just a mathematical [hash function](https://en.wikipedia.org/wiki/Hash_function).\n",
    "\n",
    "Humans are such fickle minded beings.  \n",
    "\n",
    "This machine is the most fundamental component of Bitcoin (and most blockchains). Hashes are not a concept unique to Bitcoin or cryptocurrencies. In fact, in computer science, A hash function just servers to map (or \"reformat\") data of an arbitrary size to data of a fixed size. This output is called a digest. Let's see an implementation of this in Python."
   ]
  },
  {
   "cell_type": "code",
   "execution_count": 41,
   "metadata": {},
   "outputs": [
    {
     "name": "stdout",
     "output_type": "stream",
     "text": [
      "CANNABIS: 5de87455cbe2bbf661db741dafc556c656a72512ece65a4182fa18e44bfc56c8\n",
      "DANNABIS: fd0ce5549345e2074a31bc56bbea5017aff686aebc3100dfd3b9218c113acb07\n",
      "CANNABIS: 5de87455cbe2bbf661db741dafc556c656a72512ece65a4182fa18e44bfc56c8\n"
     ]
    }
   ],
   "source": [
    "import hashlib\n",
    "\n",
    "def sha256(data):\n",
    "    \"\"\" Map data to a fixed digest \"\"\"\n",
    "    return hashlib.sha256(data.encode(\"ascii\")).hexdigest()\n",
    "\n",
    "def sacred_box(data):\n",
    "    \"\"\" Return a formatted digest \"\"\"\n",
    "    return \"{}: {}\".format(data, sha256(data))\n",
    "\n",
    "\n",
    "\"\"\" EXAMPLES \"\"\"\n",
    "print(sacred_box(\"CANNABIS\"))\n",
    "\n",
    "# changing even just one character significantly \n",
    "# impacts the resulting digest\n",
    "print(sacred_box(\"DANNABIS\"))\n",
    "\n",
    "# notice how the same input always\n",
    "# returns the same output\n",
    "print(sacred_box(\"CANNABIS\"))"
   ]
  },
  {
   "cell_type": "markdown",
   "metadata": {},
   "source": [
    "Every transaction in Bitcoin gets passed through a hash function. Bitcoin uses two rounds of the same hash function that we used, [sha256](https://en.wikipedia.org/wiki/SHA-2), to encrypt transctions."
   ]
  }
 ],
 "metadata": {
  "kernelspec": {
   "display_name": "Python 3",
   "language": "python",
   "name": "python3"
  },
  "language_info": {
   "codemirror_mode": {
    "name": "ipython",
    "version": 3
   },
   "file_extension": ".py",
   "mimetype": "text/x-python",
   "name": "python",
   "nbconvert_exporter": "python",
   "pygments_lexer": "ipython3",
   "version": "3.6.3"
  }
 },
 "nbformat": 4,
 "nbformat_minor": 2
}
